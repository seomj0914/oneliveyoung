{
 "cells": [
  {
   "cell_type": "code",
   "execution_count": 82,
   "metadata": {},
   "outputs": [],
   "source": [
    "import pandas as pd"
   ]
  },
  {
   "cell_type": "code",
   "execution_count": 83,
   "metadata": {},
   "outputs": [
    {
     "name": "stderr",
     "output_type": "stream",
     "text": [
      "/var/folders/mn/w592whfs2tb4g8s658288fb00000gn/T/ipykernel_49290/3744978623.py:3: DtypeWarning: Columns (30) have mixed types. Specify dtype option on import or set low_memory=False.\n",
      "  top_df = pd.read_csv(topReviews_path, header=0, encoding='UTF-8')\n"
     ]
    }
   ],
   "source": [
    "# 탑리뷰어 정보 DF로 가져오기\n",
    "topReviews_path = '/Users/ryeongjoo/Desktop/workspace/semi_prj/topReviews.csv'\n",
    "top_df = pd.read_csv(topReviews_path, header=0, encoding='UTF-8')"
   ]
  },
  {
   "cell_type": "code",
   "execution_count": 84,
   "metadata": {},
   "outputs": [],
   "source": [
    "# 작성자, 주문 날짜, 리뷰 작성 날짜, 리뷰 내용, 리뷰당 ‘도움이 돼요’ 개수, 한달 이상 사용, 재구매 여부, 사진 개수, 제품 구매 방법, 리뷰 고유번호, 평점(긍부정)\n",
    "# 리뷰 쓴 주기, 리뷰 길이, 총 ‘도움이 돼요’, 리뷰당 ‘도움이 돼요’ (평균), 체험단 리뷰와 일반 리뷰 차이 (리뷰 길이 편차)\n",
    "\n",
    "# gdasSeq  :  리뷰 고유번호\n",
    "# gdasScrVal: 평점 (2,4,6,8,10)\n",
    "# dispRegDate : 리뷰 업로드 날짜\n",
    "# gdasCont : 리뷰 본문\n",
    "# ordDate: 상품 주문 날짜\n",
    "# photoList: 사진 리스트 (사진 없으면 null)\n",
    "# recommCnt: 도움이 돼요 개수\n",
    "# renewUsed1mmGdasYn: 한달이상 사용\n",
    "# firstGdasYn: 첫 구매 여부 (재구매면 “N” 아니면 “Y”)\n",
    "# mbrNo: 리뷰를 작성한 회원의 고유 식별자\n",
    "# gdasSctCd : 제품 구매 방법 (10 - 온라인, 60 - 매장, 50 - 체험단, 70 - 선물)"
   ]
  },
  {
   "cell_type": "code",
   "execution_count": 85,
   "metadata": {},
   "outputs": [
    {
     "name": "stdout",
     "output_type": "stream",
     "text": [
      "            mbrNo     ordDate dispRegDate  \\\n",
      "0  M0000004535694  2023.01.23  2023.04.21   \n",
      "1  M0000004535694  2023.01.23  2023.04.21   \n",
      "2  M0000004535694  2023.01.23  2023.04.21   \n",
      "3  M0000004535694         NaN  2023.04.20   \n",
      "4  M0000004535694  2023.01.23  2023.04.20   \n",
      "\n",
      "                                            gdasCont  recommCnt  \\\n",
      "0  제가 최근에 올리브영에서 가장 많이\\r\\n구매를 했던 제품중 하나입니다ㅎ\\r\\n신랑...        NaN   \n",
      "1  허브쏠트 믹스넛은 견과류구성은\\r\\n맘에 드는데 넘짜요ㅠ\\r\\n그래도 1+1 행사를...        NaN   \n",
      "2  아침에 주로 마시고 있는 사과당근맛\\r\\n이너주스입니다ㅎ\\r\\n제가 5년을 넘게 마...        NaN   \n",
      "3  신랑을 줄려고 신청을 했어요~\\r\\n다비도프 향수는 프랑스에서 만들어\\r\\n졌고 향...        NaN   \n",
      "4  팽이버섯 유산균 발효액이 들어가서\\r\\n꾸준하게 마시면 화장실 가는게\\r\\n편해지네요ㅎㅎ        NaN   \n",
      "\n",
      "  renewUsed1mmGdasYn firstGdasYn   gdasSeq  gdasScrVal  gdasSctCd  \n",
      "0                  Y           N  19025253          10         60  \n",
      "1                  Y           N  19025210           8         60  \n",
      "2                  Y           N  19025179          10         60  \n",
      "3                  N           Y  19017693          10         50  \n",
      "4                  Y           N  19017556          10         60  \n"
     ]
    }
   ],
   "source": [
    "# 필요한 칼럼만 담은 DF\n",
    "my_top_df = top_df[['mbrNo','ordDate','dispRegDate','gdasCont','recommCnt','renewUsed1mmGdasYn','firstGdasYn', 'gdasSeq', 'gdasScrVal','gdasSctCd' ]]\n",
    "print(my_top_df.head())"
   ]
  },
  {
   "cell_type": "code",
   "execution_count": 86,
   "metadata": {},
   "outputs": [
    {
     "name": "stdout",
     "output_type": "stream",
     "text": [
      "            mbrNo     ordDate dispRegDate  \\\n",
      "0  M0000004535694  2023.01.23  2023.04.21   \n",
      "1  M0000004535694  2023.01.23  2023.04.21   \n",
      "2  M0000004535694  2023.01.23  2023.04.21   \n",
      "3  M0000004535694         NaN  2023.04.20   \n",
      "4  M0000004535694  2023.01.23  2023.04.20   \n",
      "\n",
      "                                            gdasCont  recommCnt  \\\n",
      "0  제가 최근에 올리브영에서 가장 많이\\r\\n구매를 했던 제품중 하나입니다ㅎ\\r\\n신랑...        NaN   \n",
      "1  허브쏠트 믹스넛은 견과류구성은\\r\\n맘에 드는데 넘짜요ㅠ\\r\\n그래도 1+1 행사를...        NaN   \n",
      "2  아침에 주로 마시고 있는 사과당근맛\\r\\n이너주스입니다ㅎ\\r\\n제가 5년을 넘게 마...        NaN   \n",
      "3  신랑을 줄려고 신청을 했어요~\\r\\n다비도프 향수는 프랑스에서 만들어\\r\\n졌고 향...        NaN   \n",
      "4  팽이버섯 유산균 발효액이 들어가서\\r\\n꾸준하게 마시면 화장실 가는게\\r\\n편해지네요ㅎㅎ        NaN   \n",
      "\n",
      "  renewUsed1mmGdasYn firstGdasYn   gdasSeq  gdasScrVal  gdasSctCd  cont_length  \n",
      "0                  Y           N  19025253          10         60           81  \n",
      "1                  Y           N  19025210           8         60           78  \n",
      "2                  Y           N  19025179          10         60           75  \n",
      "3                  N           Y  19017693          10         50          292  \n",
      "4                  Y           N  19017556          10         60           45  \n"
     ]
    }
   ],
   "source": [
    "# 리뷰 길이 칼럼 추가\n",
    "my_top_df = my_top_df.dropna(subset=['gdasCont']) # NaN값 4개 드랍\n",
    "my_top_df['cont_length'] = my_top_df['gdasCont'].apply(lambda x: len(str(x)))\n",
    "\n",
    "print(my_top_df.head())"
   ]
  },
  {
   "cell_type": "code",
   "execution_count": 87,
   "metadata": {},
   "outputs": [
    {
     "name": "stdout",
     "output_type": "stream",
     "text": [
      "            mbrNo    ordDate dispRegDate  \\\n",
      "0  M0000004535694 2023-01-23  2023-04-21   \n",
      "1  M0000004535694 2023-01-23  2023-04-21   \n",
      "2  M0000004535694 2023-01-23  2023-04-21   \n",
      "3  M0000004535694        NaT  2023-04-20   \n",
      "4  M0000004535694 2023-01-23  2023-04-20   \n",
      "\n",
      "                                            gdasCont  recommCnt  \\\n",
      "0  제가 최근에 올리브영에서 가장 많이\\r\\n구매를 했던 제품중 하나입니다ㅎ\\r\\n신랑...        NaN   \n",
      "1  허브쏠트 믹스넛은 견과류구성은\\r\\n맘에 드는데 넘짜요ㅠ\\r\\n그래도 1+1 행사를...        NaN   \n",
      "2  아침에 주로 마시고 있는 사과당근맛\\r\\n이너주스입니다ㅎ\\r\\n제가 5년을 넘게 마...        NaN   \n",
      "3  신랑을 줄려고 신청을 했어요~\\r\\n다비도프 향수는 프랑스에서 만들어\\r\\n졌고 향...        NaN   \n",
      "4  팽이버섯 유산균 발효액이 들어가서\\r\\n꾸준하게 마시면 화장실 가는게\\r\\n편해지네요ㅎㅎ        NaN   \n",
      "\n",
      "  renewUsed1mmGdasYn firstGdasYn   gdasSeq  gdasScrVal  gdasSctCd  \\\n",
      "0                  Y           N  19025253          10         60   \n",
      "1                  Y           N  19025210           8         60   \n",
      "2                  Y           N  19025179          10         60   \n",
      "3                  N           Y  19017693          10         50   \n",
      "4                  Y           N  19017556          10         60   \n",
      "\n",
      "   cont_length or_diff  \n",
      "0           81 88 days  \n",
      "1           78 88 days  \n",
      "2           75 88 days  \n",
      "3          292     NaT  \n",
      "4           45 87 days  \n"
     ]
    }
   ],
   "source": [
    "# 리뷰 주기 칼럼\n",
    "# 리뷰 작성 날짜 - 구매일자\n",
    "\n",
    "# 날짜형으로 변환\n",
    "my_top_df['dispRegDate'] = pd.to_datetime(my_top_df['dispRegDate'])\n",
    "my_top_df['ordDate'] = pd.to_datetime(my_top_df['ordDate'])\n",
    "\n",
    "# NaN이 아닌 행 선택\n",
    "subset = my_top_df[my_top_df['ordDate'].notnull() ]\n",
    "\n",
    "# 두 날짜의 차이를 계산하여 새로운 칼럼에 추가\n",
    "my_top_df.loc[subset.index, 'or_diff'] = my_top_df['dispRegDate'] - my_top_df['ordDate']\n",
    "\n",
    "# 결과 출력\n",
    "print(my_top_df.head())"
   ]
  },
  {
   "cell_type": "code",
   "execution_count": 88,
   "metadata": {},
   "outputs": [
    {
     "name": "stdout",
     "output_type": "stream",
     "text": [
      "            mbrNo    ordDate dispRegDate  \\\n",
      "0  M0000004535694 2023-01-23  2023-04-21   \n",
      "1  M0000004535694 2023-01-23  2023-04-21   \n",
      "2  M0000004535694 2023-01-23  2023-04-21   \n",
      "3  M0000004535694        NaT  2023-04-20   \n",
      "4  M0000004535694 2023-01-23  2023-04-20   \n",
      "\n",
      "                                            gdasCont  recommCnt  \\\n",
      "0  제가 최근에 올리브영에서 가장 많이\\r\\n구매를 했던 제품중 하나입니다ㅎ\\r\\n신랑...        NaN   \n",
      "1  허브쏠트 믹스넛은 견과류구성은\\r\\n맘에 드는데 넘짜요ㅠ\\r\\n그래도 1+1 행사를...        NaN   \n",
      "2  아침에 주로 마시고 있는 사과당근맛\\r\\n이너주스입니다ㅎ\\r\\n제가 5년을 넘게 마...        NaN   \n",
      "3  신랑을 줄려고 신청을 했어요~\\r\\n다비도프 향수는 프랑스에서 만들어\\r\\n졌고 향...        NaN   \n",
      "4  팽이버섯 유산균 발효액이 들어가서\\r\\n꾸준하게 마시면 화장실 가는게\\r\\n편해지네요ㅎㅎ        NaN   \n",
      "\n",
      "  renewUsed1mmGdasYn firstGdasYn   gdasSeq  gdasScrVal  gdasSctCd  \\\n",
      "0                  Y           N  19025253          10         60   \n",
      "1                  Y           N  19025210           8         60   \n",
      "2                  Y           N  19025179          10         60   \n",
      "3                  N           Y  19017693          10         50   \n",
      "4                  Y           N  19017556          10         60   \n",
      "\n",
      "   cont_length or_diff  recommCnt_sum  \n",
      "0           81 88 days         1018.0  \n",
      "1           78 88 days         1018.0  \n",
      "2           75 88 days         1018.0  \n",
      "3          292     NaT         1018.0  \n",
      "4           45 87 days         1018.0  \n"
     ]
    }
   ],
   "source": [
    "# 리뷰어별 총 도움이 돼요 개수\n",
    "\n",
    "# NaN이 아닌 행 선택\n",
    "subset = my_top_df[my_top_df['recommCnt'].notnull() ]\n",
    "\n",
    "# 두 날짜의 차이를 계산하여 새로운 칼럼에 추가\n",
    "recommSum_df = my_top_df.groupby('mbrNo')['recommCnt'].sum().reset_index().rename(columns={'recommCnt': 'recommCnt_sum'})\n",
    "my_top_df = pd.merge(my_top_df, recommSum_df, on='mbrNo')\n",
    "\n",
    "print(my_top_df.head())"
   ]
  },
  {
   "cell_type": "code",
   "execution_count": 94,
   "metadata": {},
   "outputs": [
    {
     "name": "stdout",
     "output_type": "stream",
     "text": [
      "            mbrNo    ordDate dispRegDate  \\\n",
      "0  M0000004535694 2023-01-23  2023-04-21   \n",
      "1  M0000004535694 2023-01-23  2023-04-21   \n",
      "2  M0000004535694 2023-01-23  2023-04-21   \n",
      "3  M0000004535694        NaT  2023-04-20   \n",
      "4  M0000004535694 2023-01-23  2023-04-20   \n",
      "\n",
      "                                            gdasCont  recommCnt  \\\n",
      "0  제가 최근에 올리브영에서 가장 많이\\r\\n구매를 했던 제품중 하나입니다ㅎ\\r\\n신랑...        NaN   \n",
      "1  허브쏠트 믹스넛은 견과류구성은\\r\\n맘에 드는데 넘짜요ㅠ\\r\\n그래도 1+1 행사를...        NaN   \n",
      "2  아침에 주로 마시고 있는 사과당근맛\\r\\n이너주스입니다ㅎ\\r\\n제가 5년을 넘게 마...        NaN   \n",
      "3  신랑을 줄려고 신청을 했어요~\\r\\n다비도프 향수는 프랑스에서 만들어\\r\\n졌고 향...        NaN   \n",
      "4  팽이버섯 유산균 발효액이 들어가서\\r\\n꾸준하게 마시면 화장실 가는게\\r\\n편해지네요ㅎㅎ        NaN   \n",
      "\n",
      "  renewUsed1mmGdasYn firstGdasYn   gdasSeq  gdasScrVal  gdasSctCd  \\\n",
      "0                  Y           N  19025253          10         60   \n",
      "1                  Y           N  19025210           8         60   \n",
      "2                  Y           N  19025179          10         60   \n",
      "3                  N           Y  19017693          10         50   \n",
      "4                  Y           N  19017556          10         60   \n",
      "\n",
      "   cont_length or_diff  recommCnt_sum  gdasContt_cnt_x  gdasContt_cnt_y  \\\n",
      "0           81 88 days         1018.0              300              300   \n",
      "1           78 88 days         1018.0              300              300   \n",
      "2           75 88 days         1018.0              300              300   \n",
      "3          292     NaT         1018.0              300              300   \n",
      "4           45 87 days         1018.0              300              300   \n",
      "\n",
      "   gdasContt_cnt  recomm_per_rv  \n",
      "0            300       3.393333  \n",
      "1            300       3.393333  \n",
      "2            300       3.393333  \n",
      "3            300       3.393333  \n",
      "4            300       3.393333  \n"
     ]
    }
   ],
   "source": [
    "# 리뷰어별 리뷰 개수당 평균 도움이 돼요 개수\n",
    "\n",
    "# 리뷰어별 작성 리뷰 개수\n",
    "reviewCnt_df = my_top_df.groupby('mbrNo')['gdasCont'].count().reset_index().rename(columns={'gdasCont': 'gdasContt_cnt'})\n",
    "my_top_df = pd.merge(my_top_df, reviewCnt_df, on='mbrNo')\n",
    "\n",
    "# 나누기\n",
    "my_top_df['recomm_per_rv'] = my_top_df['recommCnt_sum'] / my_top_df['gdasContt_cnt']\n",
    "\n",
    "print(my_top_df.head())"
   ]
  },
  {
   "cell_type": "code",
   "execution_count": null,
   "metadata": {},
   "outputs": [],
   "source": []
  },
  {
   "cell_type": "code",
   "execution_count": null,
   "metadata": {},
   "outputs": [],
   "source": []
  },
  {
   "cell_type": "code",
   "execution_count": null,
   "metadata": {},
   "outputs": [],
   "source": []
  }
 ],
 "metadata": {
  "kernelspec": {
   "display_name": "newprj",
   "language": "python",
   "name": "python3"
  },
  "language_info": {
   "codemirror_mode": {
    "name": "ipython",
    "version": 3
   },
   "file_extension": ".py",
   "mimetype": "text/x-python",
   "name": "python",
   "nbconvert_exporter": "python",
   "pygments_lexer": "ipython3",
   "version": "3.8.16"
  },
  "orig_nbformat": 4,
  "vscode": {
   "interpreter": {
    "hash": "37dcb171acb47c3d04f804a42efe3935da75a96b4220c54673b89fccb59f3177"
   }
  }
 },
 "nbformat": 4,
 "nbformat_minor": 2
}
