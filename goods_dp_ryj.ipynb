{
 "cells": [
  {
   "cell_type": "code",
   "execution_count": 108,
   "metadata": {},
   "outputs": [],
   "source": [
    "import pandas as pd\n",
    "import re"
   ]
  },
  {
   "attachments": {},
   "cell_type": "markdown",
   "metadata": {},
   "source": [
    "#### 상품별 리뷰 df"
   ]
  },
  {
   "cell_type": "code",
   "execution_count": 109,
   "metadata": {},
   "outputs": [
    {
     "name": "stderr",
     "output_type": "stream",
     "text": [
      "/var/folders/mn/w592whfs2tb4g8s658288fb00000gn/T/ipykernel_36352/4067978522.py:3: DtypeWarning: Columns (62) have mixed types. Specify dtype option on import or set low_memory=False.\n",
      "  goods_df = pd.read_csv(goodsReviews_path, header=0, encoding='UTF-8')\n"
     ]
    }
   ],
   "source": [
    "# 상품별 리뷰 정보 DF로 가져오기\n",
    "goodsReviews_path = '/Users/ryeongjoo/Desktop/workspace/semi_prj/temp_result111.csv'\n",
    "goods_df = pd.read_csv(goodsReviews_path, header=0, encoding='UTF-8')"
   ]
  },
  {
   "cell_type": "code",
   "execution_count": 110,
   "metadata": {},
   "outputs": [],
   "source": [
    "# 필요한 칼럼만 담은 DF\n",
    "my_goods_df = goods_df[['gdasSeq', 'goodsNo', 'ordNo', 'ordGoodsSeq', 'gdasScrVal', 'gdasCont', 'mbrNo', 'photoGdasYn', 'gdasSctCd', 'goodsNm', 'dispRegDate', 'recommCnt', 'topRvrRnk', 'firstGdasYn', 'reviewerFmsRnkCat', 'evalList']]\n",
    "# print(my_goods_df.head())"
   ]
  },
  {
   "cell_type": "code",
   "execution_count": 111,
   "metadata": {},
   "outputs": [],
   "source": [
    "# NaN 값 드랍\n",
    "my_goods_df = my_goods_df.dropna(subset=['gdasCont'])\n",
    "\n",
    "# 영어 소문자 통일\n",
    "my_goods_df['gdasCont'] = my_goods_df['gdasCont'].str.lower()"
   ]
  },
  {
   "cell_type": "code",
   "execution_count": 112,
   "metadata": {},
   "outputs": [],
   "source": [
    "# 정규식을 이용하여 이모티콘 추출하는 함수\n",
    "def extract_emoji(text):\n",
    "    emoji_pattern = re.compile(\"[\"\n",
    "        u\"\\U0001f600-\\U0001f64f\"  # 이모티콘\n",
    "        u\"\\U0001f300-\\U0001f5ff\"  # 기호 및 문장 부호\n",
    "        u\"\\U0001f680-\\U0001f6ff\"  # 기타 이모티콘\n",
    "        u\"\\U0001f1e0-\\U0001f1ff\"  # 국기 및 기호\n",
    "                           \"]+\", flags=re.UNICODE)\n",
    "    return emoji_pattern.findall(text)\n",
    "\n",
    "# '이모티콘' 열 생성\n",
    "my_goods_df['unicode'] = my_goods_df['gdasCont'].apply(lambda x: extract_emoji(x))"
   ]
  },
  {
   "cell_type": "code",
   "execution_count": 113,
   "metadata": {},
   "outputs": [],
   "source": [
    "# 리뷰내용 중복문자, 이모티콘 제거\n",
    "clean_reviews = []\n",
    "emoticon_list = []\n",
    "\n",
    "def remove_emoji(text):\n",
    "    # 이모티콘 패턴 정의\n",
    "    emoji_pattern = re.compile(\"[\"\n",
    "                               u\"\\U0001F600-\\U0001F64F\"  # 이모티콘\n",
    "                               u\"\\U0001F300-\\U0001F5FF\"  # 심볼\n",
    "                               u\"\\U0001F680-\\U0001F6FF\"  # 트랜스포트 및 지도\n",
    "                               u\"\\U0001F1E0-\\U0001F1FF\"  # 국기 및 이모지\n",
    "                               \"]+\", flags=re.UNICODE)\n",
    "    # 이모티콘 제거\n",
    "    return emoji_pattern.sub(r'', text)\n",
    "\n",
    "for review in my_goods_df['gdasCont'] :\n",
    "    \n",
    "    # 초성, 줄바꿈 제거\n",
    "    review = re.sub('[ㄱ-ㅎㅏ-ㅣ]', '', review)\n",
    "    review = re.sub('[\\r\\n]', ' ', review)  \n",
    "    \n",
    "    # 이모티콘 제거\n",
    "    review = remove_emoji(review)\n",
    "    \n",
    "    clean_reviews.append(review)\n",
    "    \n",
    "my_goods_df['gdasCont'] = clean_reviews"
   ]
  },
  {
   "cell_type": "code",
   "execution_count": 114,
   "metadata": {},
   "outputs": [],
   "source": [
    "# 리뷰 길이 칼럼 추가\n",
    "my_goods_df['cont_length'] = my_goods_df['gdasCont'].apply(lambda x: len(str(x)))\n",
    "\n",
    "# print(my_goods_df.head())"
   ]
  },
  {
   "cell_type": "code",
   "execution_count": 115,
   "metadata": {},
   "outputs": [],
   "source": [
    "# 음식 / 화장품으로 상품 분류한 칼럼 추가\n",
    "\n",
    "import numpy as np\n",
    "\n",
    "conditions = [\n",
    "    (my_goods_df['reviewerFmsRnkCat'] == '건강식품, 푸드'),\n",
    "    (my_goods_df['reviewerFmsRnkCat'] == '건강식품'),\n",
    "    (my_goods_df['reviewerFmsRnkCat'] == '푸드'),\n",
    "    (my_goods_df['reviewerFmsRnkCat'] == '헤어케어, 푸드'),\n",
    "]\n",
    "choices = ['food', 'food', 'food', 'food']\n",
    "my_goods_df['reviewerFmsRnkCat_'] = np.select(conditions, choices, default='cosmetic')\n",
    "\n",
    "my_goods_df['reviewerFmsRnkCat_'].fillna('cosmetic', inplace=True)"
   ]
  },
  {
   "cell_type": "code",
   "execution_count": 116,
   "metadata": {},
   "outputs": [
    {
     "name": "stdout",
     "output_type": "stream",
     "text": [
      "포장상태 A000000001325 꼼꼼해요\n",
      "유통기한 A000000001328 예상보다 길어요\n",
      "맛 A000000001331 아주 맛있어요\n"
     ]
    }
   ],
   "source": [
    "# evalList에서 'evalQstCont', 'evalAnsCont' 가져오기\n",
    "\n",
    "# json은 str 형태로 넘어옴 -> 딕셔너리로 변환\n",
    "import json\n",
    "\n",
    "for eval in my_goods_df['evalList'].head(1):\n",
    "    \n",
    "    # 작은 따옴표를 큰 따옴표로, None을 null로 바꾸기\n",
    "    fixed_str_data = eval.replace(\"'\", \"\\\"\").replace(\"None\", \"null\")\n",
    "\n",
    "    # JSON 디코딩 -> list 형태로 바뀌며 인덱스마다 딕셔너리 하나씩\n",
    "    eval_jason = json.loads(fixed_str_data)\n",
    "    \n",
    "    for eval_dict in eval_jason :\n",
    "        print(eval_dict['evalQstCont'], eval_dict['evalAnsCd'], eval_dict['evalAnsCont'])\n",
    "\n",
    "    "
   ]
  },
  {
   "cell_type": "code",
   "execution_count": 117,
   "metadata": {},
   "outputs": [],
   "source": [
    "# for eval in my_goods_df['evalList'].head(1):\n",
    "#     print(eval)"
   ]
  },
  {
   "attachments": {},
   "cell_type": "markdown",
   "metadata": {},
   "source": [
    "#### 상품별 df"
   ]
  },
  {
   "cell_type": "code",
   "execution_count": 118,
   "metadata": {},
   "outputs": [],
   "source": [
    "product_df = pd.DataFrame()"
   ]
  },
  {
   "cell_type": "code",
   "execution_count": 119,
   "metadata": {},
   "outputs": [],
   "source": [
    "# goodsNo 칼럼 생성\n",
    "unique_goodsNo = my_goods_df['goodsNo'].unique()  # 중복을 제거한 goodsNo 값 추출\n",
    "product_df['goodsNo'] = pd.Series(unique_goodsNo)"
   ]
  },
  {
   "cell_type": "code",
   "execution_count": 120,
   "metadata": {},
   "outputs": [],
   "source": [
    "# 상품별 두달간 리뷰 평점 평균\n",
    "scrMean_df = my_goods_df.groupby('goodsNo')['gdasScrVal'].mean().reset_index().rename(columns={'gdasScrVal': 'scrMean'})\n",
    "\n",
    "# product_df와 scrMean_df 조인\n",
    "product_df = pd.merge(product_df, scrMean_df, on='goodsNo', how='left')"
   ]
  },
  {
   "cell_type": "code",
   "execution_count": 122,
   "metadata": {},
   "outputs": [
    {
     "data": {
      "text/html": [
       "<div>\n",
       "<style scoped>\n",
       "    .dataframe tbody tr th:only-of-type {\n",
       "        vertical-align: middle;\n",
       "    }\n",
       "\n",
       "    .dataframe tbody tr th {\n",
       "        vertical-align: top;\n",
       "    }\n",
       "\n",
       "    .dataframe thead th {\n",
       "        text-align: right;\n",
       "    }\n",
       "</style>\n",
       "<table border=\"1\" class=\"dataframe\">\n",
       "  <thead>\n",
       "    <tr style=\"text-align: right;\">\n",
       "      <th></th>\n",
       "      <th>goodsNo</th>\n",
       "      <th>scrMean</th>\n",
       "    </tr>\n",
       "  </thead>\n",
       "  <tbody>\n",
       "    <tr>\n",
       "      <th>0</th>\n",
       "      <td>A000000177512</td>\n",
       "      <td>9.808000</td>\n",
       "    </tr>\n",
       "    <tr>\n",
       "      <th>1</th>\n",
       "      <td>A000000180332</td>\n",
       "      <td>9.847619</td>\n",
       "    </tr>\n",
       "    <tr>\n",
       "      <th>2</th>\n",
       "      <td>A000000177513</td>\n",
       "      <td>9.240000</td>\n",
       "    </tr>\n",
       "    <tr>\n",
       "      <th>3</th>\n",
       "      <td>A000000113701</td>\n",
       "      <td>9.725926</td>\n",
       "    </tr>\n",
       "    <tr>\n",
       "      <th>4</th>\n",
       "      <td>A000000182399</td>\n",
       "      <td>8.285714</td>\n",
       "    </tr>\n",
       "    <tr>\n",
       "      <th>...</th>\n",
       "      <td>...</td>\n",
       "      <td>...</td>\n",
       "    </tr>\n",
       "    <tr>\n",
       "      <th>673</th>\n",
       "      <td>A000000169449</td>\n",
       "      <td>9.386047</td>\n",
       "    </tr>\n",
       "    <tr>\n",
       "      <th>674</th>\n",
       "      <td>A000000169450</td>\n",
       "      <td>9.541315</td>\n",
       "    </tr>\n",
       "    <tr>\n",
       "      <th>675</th>\n",
       "      <td>A000000169445</td>\n",
       "      <td>9.337423</td>\n",
       "    </tr>\n",
       "    <tr>\n",
       "      <th>676</th>\n",
       "      <td>A000000169443</td>\n",
       "      <td>9.448276</td>\n",
       "    </tr>\n",
       "    <tr>\n",
       "      <th>677</th>\n",
       "      <td>A000000173185</td>\n",
       "      <td>10.000000</td>\n",
       "    </tr>\n",
       "  </tbody>\n",
       "</table>\n",
       "<p>678 rows × 2 columns</p>\n",
       "</div>"
      ],
      "text/plain": [
       "           goodsNo    scrMean\n",
       "0    A000000177512   9.808000\n",
       "1    A000000180332   9.847619\n",
       "2    A000000177513   9.240000\n",
       "3    A000000113701   9.725926\n",
       "4    A000000182399   8.285714\n",
       "..             ...        ...\n",
       "673  A000000169449   9.386047\n",
       "674  A000000169450   9.541315\n",
       "675  A000000169445   9.337423\n",
       "676  A000000169443   9.448276\n",
       "677  A000000173185  10.000000\n",
       "\n",
       "[678 rows x 2 columns]"
      ]
     },
     "execution_count": 122,
     "metadata": {},
     "output_type": "execute_result"
    }
   ],
   "source": [
    "product_df"
   ]
  },
  {
   "attachments": {},
   "cell_type": "markdown",
   "metadata": {},
   "source": [
    "#### 검증"
   ]
  },
  {
   "cell_type": "code",
   "execution_count": 121,
   "metadata": {},
   "outputs": [
    {
     "name": "stdout",
     "output_type": "stream",
     "text": [
      "-32.9161888111888\n"
     ]
    }
   ],
   "source": [
    "# 탑리뷰어(1~1000) 상위,중위,하위로 나눠서 리뷰길이차이 (편차) 구하기\n",
    "\n",
    "#탑리뷰어(1~2000) 상위,중위,하위로 나눈 칼럼 추가\n",
    "my_goods_df['topRvrRnk_rank'] = pd.cut(my_goods_df['topRvrRnk'], bins=[0, 333, 666, 1000], labels=[1, 2, 3])\n",
    "\n",
    "#상위 리뷰어와 하위 리뷰어 차이 (리뷰 길이 편차)\n",
    "high_review_length = my_goods_df.loc[my_goods_df['topRvrRnk'] == 1]['cont_length'].mean()\n",
    "low_review_length = my_goods_df.loc[my_goods_df['topRvrRnk'] == 3]['cont_length'].mean()\n",
    "\n",
    "diff_review_length = high_review_length - low_review_length\n",
    "print(diff_review_length)\n",
    "\n",
    "# 오히려 하위 탑리뷰어들의 평균 리뷰 길이가 더 길다는 것을 알 수 있다."
   ]
  },
  {
   "cell_type": "code",
   "execution_count": null,
   "metadata": {},
   "outputs": [],
   "source": []
  }
 ],
 "metadata": {
  "kernelspec": {
   "display_name": "Python 3",
   "language": "python",
   "name": "python3"
  },
  "language_info": {
   "codemirror_mode": {
    "name": "ipython",
    "version": 3
   },
   "file_extension": ".py",
   "mimetype": "text/x-python",
   "name": "python",
   "nbconvert_exporter": "python",
   "pygments_lexer": "ipython3",
   "version": "3.9.6"
  },
  "orig_nbformat": 4,
  "vscode": {
   "interpreter": {
    "hash": "31f2aee4e71d21fbe5cf8b01ff0e069b9275f58929596ceb00d14d90e3e16cd6"
   }
  }
 },
 "nbformat": 4,
 "nbformat_minor": 2
}
