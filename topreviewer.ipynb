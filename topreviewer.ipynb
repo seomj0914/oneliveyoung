{
 "cells": [
  {
   "cell_type": "code",
   "execution_count": 21,
   "id": "3cc6b19a",
   "metadata": {},
   "outputs": [],
   "source": [
    "import requests\n",
    "import selenium\n",
    "from selenium.webdriver.common.by import By\n",
    "from selenium import webdriver\n",
    "from bs4 import BeautifulSoup as bs\n",
    "\n",
    "from tqdm import tqdm\n",
    "\n",
    "import time\n",
    "from datetime import datetime\n",
    "\n",
    "import pandas as pd"
   ]
  },
  {
   "cell_type": "code",
   "execution_count": 22,
   "id": "fef13654",
   "metadata": {},
   "outputs": [],
   "source": [
    "def get_reviewers(res):\n",
    "    result = pd.DataFrame()\n",
    "    \n",
    "    for reviewer in tqdm(res.json()['topReviewerList']):\n",
    "        cols = reviewer.keys()\n",
    "\n",
    "        tmp = dict()\n",
    "        for col in cols:\n",
    "            if col in ['gdas','photoList'] : continue\n",
    "                \n",
    "            if reviewer[col]:\n",
    "                tmp[col] = reviewer[col]\n",
    "\n",
    "        result = pd.concat([result, pd.DataFrame(tmp, index=[0])])\n",
    "\n",
    "    return result.reset_index(drop=True)\n"
   ]
  },
  {
   "cell_type": "code",
   "execution_count": 23,
   "id": "74dae8bc",
   "metadata": {},
   "outputs": [],
   "source": [
    "def get_topReviewer():\n",
    "    url = 'https://www.oliveyoung.co.kr/store/mypage/getTopReviewerListJSON.do'\n",
    "    \n",
    "    page = 1\n",
    "    params = {\n",
    "        'pageIdx' : page\n",
    "    }\n",
    "    \n",
    "    result = pd.DataFrame()\n",
    "    before_members = []\n",
    "    \n",
    "    cnt = 1\n",
    "    while True:\n",
    "        time.sleep(0.3)\n",
    "        \n",
    "        res = requests.get(url, params=params)\n",
    "            \n",
    "        reviewer = get_reviewers(res)\n",
    "                \n",
    "        result = pd.concat([result, reviewer])\n",
    "        \n",
    "        if len(reviewer['mbrNm'].values) < 10:\n",
    "            break\n",
    "            \n",
    "        page +=1\n",
    "        params['pageIdx'] = page\n",
    "        \n",
    "            \n",
    "    return result.reset_index(drop=True)"
   ]
  },
  {
   "cell_type": "code",
   "execution_count": 24,
   "id": "bc661666",
   "metadata": {
    "collapsed": true
   },
   "outputs": [
    {
     "name": "stderr",
     "output_type": "stream",
     "text": [
      "  0%|                                                    | 0/10 [00:00<?, ?it/s]\n"
     ]
    },
    {
     "ename": "KeyboardInterrupt",
     "evalue": "",
     "output_type": "error",
     "traceback": [
      "\u001b[0;31m---------------------------------------------------------------------------\u001b[0m",
      "\u001b[0;31mKeyboardInterrupt\u001b[0m                         Traceback (most recent call last)",
      "Cell \u001b[0;32mIn[24], line 1\u001b[0m\n\u001b[0;32m----> 1\u001b[0m reviewer \u001b[38;5;241m=\u001b[39m \u001b[43mget_topReviewer\u001b[49m\u001b[43m(\u001b[49m\u001b[43m)\u001b[49m\n",
      "Cell \u001b[0;32mIn[23], line 18\u001b[0m, in \u001b[0;36mget_topReviewer\u001b[0;34m()\u001b[0m\n\u001b[1;32m     14\u001b[0m time\u001b[38;5;241m.\u001b[39msleep(\u001b[38;5;241m0.3\u001b[39m)\n\u001b[1;32m     16\u001b[0m res \u001b[38;5;241m=\u001b[39m requests\u001b[38;5;241m.\u001b[39mget(url, params\u001b[38;5;241m=\u001b[39mparams)\n\u001b[0;32m---> 18\u001b[0m reviewer \u001b[38;5;241m=\u001b[39m \u001b[43mget_reviewers\u001b[49m\u001b[43m(\u001b[49m\u001b[43mres\u001b[49m\u001b[43m)\u001b[49m\n\u001b[1;32m     20\u001b[0m result \u001b[38;5;241m=\u001b[39m pd\u001b[38;5;241m.\u001b[39mconcat([result, reviewer])\n\u001b[1;32m     22\u001b[0m \u001b[38;5;28;01mif\u001b[39;00m \u001b[38;5;28mlen\u001b[39m(reviewer[\u001b[38;5;124m'\u001b[39m\u001b[38;5;124mmbrNm\u001b[39m\u001b[38;5;124m'\u001b[39m]\u001b[38;5;241m.\u001b[39mvalues) \u001b[38;5;241m<\u001b[39m \u001b[38;5;241m10\u001b[39m:\n",
      "Cell \u001b[0;32mIn[22], line 14\u001b[0m, in \u001b[0;36mget_reviewers\u001b[0;34m(res)\u001b[0m\n\u001b[1;32m     11\u001b[0m         \u001b[38;5;28;01mif\u001b[39;00m reviewer[col]:\n\u001b[1;32m     12\u001b[0m             tmp[col] \u001b[38;5;241m=\u001b[39m reviewer[col]\n\u001b[0;32m---> 14\u001b[0m     result \u001b[38;5;241m=\u001b[39m pd\u001b[38;5;241m.\u001b[39mconcat([result, pd\u001b[38;5;241m.\u001b[39mDataFrame(tmp, index\u001b[38;5;241m=\u001b[39m[\u001b[38;5;241m0\u001b[39m])])\n\u001b[1;32m     16\u001b[0m \u001b[38;5;28;01mreturn\u001b[39;00m result\u001b[38;5;241m.\u001b[39mreset_index(drop\u001b[38;5;241m=\u001b[39m\u001b[38;5;28;01mTrue\u001b[39;00m)\n",
      "\u001b[0;31mKeyboardInterrupt\u001b[0m: "
     ]
    }
   ],
   "source": [
    "reviewer = get_topReviewer()"
   ]
  },
  {
   "cell_type": "code",
   "execution_count": 474,
   "id": "37b619ce",
   "metadata": {},
   "outputs": [],
   "source": [
    "reviewer.to_csv('topReviewers.csv', index = False)"
   ]
  },
  {
   "cell_type": "code",
   "execution_count": 25,
   "id": "92a9f7f8",
   "metadata": {},
   "outputs": [],
   "source": [
    "reviewer = pd.read_csv('topReviewers.csv')"
   ]
  },
  {
   "cell_type": "code",
   "execution_count": 83,
   "id": "3dd8c9d4",
   "metadata": {},
   "outputs": [],
   "source": [
    "def get_reviews(members, end_date):\n",
    "    url = 'https://www.oliveyoung.co.kr/store/mypage/getReviewerGdasListJSON.do'\n",
    "\n",
    "    params = {\n",
    "        'gdasSort': '03'\n",
    "    }\n",
    "    last_content = ''\n",
    "\n",
    "    reviews = pd.DataFrame()\n",
    "\n",
    "    for mem_no in (members['mbrNo'].values):\n",
    "        params['mbrNo'] = mem_no\n",
    "#         print(mem_no)\n",
    "        member_review = pd.DataFrame()\n",
    "\n",
    "        page = 1\n",
    "        while True:\n",
    "            params['pageIdx'] = page\n",
    "            res = requests.get(url, params=params)\n",
    "\n",
    "            reviews = pd.concat([reviews, member_reviews(res)])\n",
    "\n",
    "            writed_at = reviews['dispRegDate'].iloc[-1].split('.')\n",
    "            writed_at = list(map(int, writed_at))\n",
    "            writed_at = datetime(writed_at[0],writed_at[1],writed_at[2])\n",
    "            \n",
    "\n",
    "\n",
    "            if (end_date- writed_at).days > 60: # 최근 2달 60일로 계산\n",
    "#                 print('Over 60 day')\n",
    "                break\n",
    "            \n",
    "            if last_content == reviews['gdasCont'].iloc[-1]:\n",
    "#                 print('Under 60 day')\n",
    "                break\n",
    "            \n",
    "            last_content = reviews['gdasCont'].iloc[-1]\n",
    "\n",
    "            page+=1\n",
    "            \n",
    "    return reviews\n",
    "\n"
   ]
  },
  {
   "cell_type": "code",
   "execution_count": 84,
   "id": "1286e354",
   "metadata": {},
   "outputs": [],
   "source": [
    "def member_reviews(res):\n",
    "    \n",
    "    result = pd.DataFrame()\n",
    "    \n",
    "    for reviewer in res.json()['allReviewList']:\n",
    "        cols = reviewer.keys()\n",
    "\n",
    "        tmp = dict()\n",
    "        for col in cols:\n",
    "            \n",
    "            if col == 'photoList':\n",
    "                if reviewer[col]:\n",
    "                    tmp[col] = len(reviewer[col])\n",
    "                else:\n",
    "                    tmp[col] = 0\n",
    "                    \n",
    "            elif reviewer[col]:\n",
    "                tmp[col] = str(reviewer[col])\n",
    "            \n",
    "        result = pd.concat([result, pd.DataFrame(tmp,index = [0])])\n",
    "\n",
    "    return result.reset_index(drop=True)"
   ]
  },
  {
   "cell_type": "code",
   "execution_count": 85,
   "id": "c5b6f8c8",
   "metadata": {},
   "outputs": [
    {
     "name": "stderr",
     "output_type": "stream",
     "text": [
      "100%|███████████████████████████████████████████| 68/68 [43:54<00:00, 38.74s/it]\n"
     ]
    }
   ],
   "source": [
    "end_date = datetime(2023,4,21)\n",
    "\n",
    "slice_cnt = 30\n",
    "\n",
    "reviews = pd.DataFrame()\n",
    "from tqdm import tqdm\n",
    "for cnt in tqdm(range(int(len(reviewer)/30)+1)):\n",
    "    \n",
    "    tmp = get_reviews(reviewer[cnt*slice_cnt:(cnt+1)*slice_cnt], end_date)\n",
    "    reviews = pd.concat([reviews, tmp])"
   ]
  },
  {
   "cell_type": "code",
   "execution_count": 90,
   "id": "9a634e9c",
   "metadata": {},
   "outputs": [],
   "source": [
    "reviews = reviews.reset_index(drop=True)"
   ]
  },
  {
   "cell_type": "code",
   "execution_count": 91,
   "id": "2b96a9f7",
   "metadata": {},
   "outputs": [],
   "source": [
    "reviews.to_csv('./topReviews.csv', index=False)"
   ]
  },
  {
   "cell_type": "code",
   "execution_count": 238,
   "id": "b731ae4c",
   "metadata": {},
   "outputs": [],
   "source": [
    "drop_cols = ['itemNo', 'pageIdx','lgcGoodsNo', 'dbLocaleLanguage', 'itemNm', 'profileOpenYn','colDataCdArr', 'rownum', 'prGoodsSumrInfo', 'profileImg', 'addInfoNm', 'skinTypeCd','skinToneCd','skinTroubleCd', 'gdasPrhbCatCnt']"
   ]
  },
  {
   "cell_type": "code",
   "execution_count": 241,
   "id": "f1b5308f",
   "metadata": {},
   "outputs": [
    {
     "name": "stdout",
     "output_type": "stream",
     "text": [
      "<class 'pandas.core.frame.DataFrame'>\n",
      "RangeIndex: 121949 entries, 0 to 121948\n",
      "Data columns (total 17 columns):\n",
      " #   Column              Non-Null Count   Dtype \n",
      "---  ------              --------------   ----- \n",
      " 0   gdasSeq             121949 non-null  int32 \n",
      " 1   goodsNo             121949 non-null  object\n",
      " 2   gdasScrVal          121949 non-null  int8  \n",
      " 3   gdasCont            121945 non-null  object\n",
      " 4   mbrNo               121949 non-null  object\n",
      " 5   gdasSctCd           121949 non-null  int8  \n",
      " 6   ordDate             115041 non-null  object\n",
      " 7   dispRegDate         121949 non-null  object\n",
      " 8   myRecommYn          121949 non-null  object\n",
      " 9   photoList           121949 non-null  int64 \n",
      " 10  addInfoOpenYn       121949 non-null  object\n",
      " 11  showFilter          121949 non-null  object\n",
      " 12  firstGdasYn         121943 non-null  object\n",
      " 13  renewUsed1mmGdasYn  121890 non-null  object\n",
      " 14  recommCnt           40939 non-null   object\n",
      " 15  hshTag              9942 non-null    object\n",
      " 16  used1mmGdasYn       53 non-null      object\n",
      "dtypes: int32(1), int64(1), int8(2), object(13)\n",
      "memory usage: 13.7+ MB\n"
     ]
    }
   ],
   "source": [
    "test = reviews.drop(columns=drop_cols, axis=1)\n",
    "test['gdasSeq'] = test['gdasSeq'].astype('int32')\n",
    "test['gdasScrVal'] = test['gdasScrVal'].astype('int8')\n",
    "test['gdasSctCd'] = test['gdasSctCd'].astype('int8')\n",
    "test.info()"
   ]
  }
 ],
 "metadata": {
  "kernelspec": {
   "display_name": "Python 3 (ipykernel)",
   "language": "python",
   "name": "python3"
  },
  "language_info": {
   "codemirror_mode": {
    "name": "ipython",
    "version": 3
   },
   "file_extension": ".py",
   "mimetype": "text/x-python",
   "name": "python",
   "nbconvert_exporter": "python",
   "pygments_lexer": "ipython3",
   "version": "3.9.13"
  }
 },
 "nbformat": 4,
 "nbformat_minor": 5
}
